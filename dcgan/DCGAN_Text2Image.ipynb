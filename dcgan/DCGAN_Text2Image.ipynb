{
  "cells": [
    {
      "cell_type": "markdown",
      "id": "qylPqx1anVTi",
      "metadata": {
        "id": "qylPqx1anVTi"
      },
      "source": [
        "## DCGAN model"
      ]
    },
    {
      "cell_type": "code",
      "execution_count": 1,
      "id": "9BRVTdrOnNw9",
      "metadata": {
        "id": "9BRVTdrOnNw9"
      },
      "outputs": [],
      "source": [
        "import torch\n",
        "import torch.nn as nn\n",
        "\n",
        "# The Generator model\n",
        "class Generator(nn.Module):\n",
        "    def __init__(self, channels, noise_dim=100, embed_dim=1024, embed_out_dim=128):\n",
        "        super(Generator, self).__init__()\n",
        "        self.channels = channels\n",
        "        self.noise_dim = noise_dim\n",
        "        self.embed_dim = embed_dim\n",
        "        self.embed_out_dim = embed_out_dim\n",
        "\n",
        "        # Text embedding layers\n",
        "        self.text_embedding = nn.Sequential(\n",
        "            nn.Linear(self.embed_dim, self.embed_out_dim),\n",
        "            nn.BatchNorm1d(self.embed_out_dim),\n",
        "            nn.LeakyReLU(0.2, inplace=True)\n",
        "        )\n",
        "\n",
        "        # Generator architecture\n",
        "        model = []\n",
        "        model += self._create_layer(self.noise_dim + self.embed_out_dim, 512, 4, stride=1, padding=0)\n",
        "        model += self._create_layer(512, 256, 4, stride=2, padding=1)\n",
        "        model += self._create_layer(256, 128, 4, stride=2, padding=1)\n",
        "        model += self._create_layer(128, 64, 4, stride=2, padding=1)\n",
        "        model += self._create_layer(64, self.channels, 4, stride=2, padding=1, output=True)\n",
        "\n",
        "        self.model = nn.Sequential(*model)\n",
        "\n",
        "    def _create_layer(self, size_in, size_out, kernel_size=4, stride=2, padding=1, output=False):\n",
        "        layers = [nn.ConvTranspose2d(size_in, size_out, kernel_size, stride=stride, padding=padding, bias=False)]\n",
        "        if output:\n",
        "            layers.append(nn.Tanh())  # Tanh activation for the output layer\n",
        "        else:\n",
        "            layers += [nn.BatchNorm2d(size_out), nn.ReLU(True)]  # Batch normalization and ReLU for other layers\n",
        "        return layers\n",
        "\n",
        "    def forward(self, noise, text):\n",
        "        # Apply text embedding to the input text\n",
        "        text = self.text_embedding(text)\n",
        "        text = text.view(text.shape[0], text.shape[1], 1, 1)  # Reshape to match the generator input size\n",
        "        z = torch.cat([text, noise], 1)  # Concatenate text embedding with noise\n",
        "        return self.model(z)\n",
        "\n",
        "\n",
        "# The Embedding model\n",
        "class Embedding(nn.Module):\n",
        "    def __init__(self, size_in, size_out):\n",
        "        super(Embedding, self).__init__()\n",
        "        self.text_embedding = nn.Sequential(\n",
        "            nn.Linear(size_in, size_out),\n",
        "            nn.BatchNorm1d(size_out),\n",
        "            nn.LeakyReLU(0.2, inplace=True)\n",
        "        )\n",
        "\n",
        "    def forward(self, x, text):\n",
        "        embed_out = self.text_embedding(text)\n",
        "        embed_out_resize = embed_out.repeat(4, 4, 1, 1).permute(2, 3, 0, 1)  # Resize to match the discriminator input size\n",
        "        out = torch.cat([x, embed_out_resize], 1)  # Concatenate text embedding with the input feature map\n",
        "        return out\n",
        "\n",
        "\n",
        "# The Discriminator model\n",
        "class Discriminator(nn.Module):\n",
        "    def __init__(self, channels, embed_dim=1024, embed_out_dim=128):\n",
        "        super(Discriminator, self).__init__()\n",
        "        self.channels = channels\n",
        "        self.embed_dim = embed_dim\n",
        "        self.embed_out_dim = embed_out_dim\n",
        "\n",
        "        # Discriminator architecture\n",
        "        self.model = nn.Sequential(\n",
        "            *self._create_layer(self.channels, 64, 4, 2, 1, normalize=False),\n",
        "            *self._create_layer(64, 128, 4, 2, 1),\n",
        "            *self._create_layer(128, 256, 4, 2, 1),\n",
        "            *self._create_layer(256, 512, 4, 2, 1)\n",
        "        )\n",
        "        self.text_embedding = Embedding(self.embed_dim, self.embed_out_dim)  # Text embedding module\n",
        "        self.output = nn.Sequential(\n",
        "            nn.Conv2d(512 + self.embed_out_dim, 1, 4, 1, 0, bias=False), nn.Sigmoid()\n",
        "        )\n",
        "\n",
        "    def _create_layer(self, size_in, size_out, kernel_size=4, stride=2, padding=1, normalize=True):\n",
        "        layers = [nn.Conv2d(size_in, size_out, kernel_size=kernel_size, stride=stride, padding=padding)]\n",
        "        if normalize:\n",
        "            layers.append(nn.BatchNorm2d(size_out))\n",
        "        layers.append(nn.LeakyReLU(0.2, inplace=True))\n",
        "        return layers\n",
        "\n",
        "    def forward(self, x, text):\n",
        "        x_out = self.model(x)  # Extract features from the input using the discriminator architecture\n",
        "        out = self.text_embedding(x_out, text)  # Apply text embedding and concatenate with the input features\n",
        "        out = self.output(out)  # Final discriminator output\n",
        "        return out.squeeze(), x_out"
      ]
    },
    {
      "cell_type": "markdown",
      "id": "vzKrTsLXnFkx",
      "metadata": {
        "id": "vzKrTsLXnFkx"
      },
      "source": [
        "## Utils"
      ]
    },
    {
      "cell_type": "code",
      "execution_count": 2,
      "id": "9GuWb3BKnMNA",
      "metadata": {
        "id": "9GuWb3BKnMNA"
      },
      "outputs": [],
      "source": [
        "import torch\n",
        "\n",
        "def process_caption(caption, max_caption_length=200, alphabet=\"abcdefghijklmnopqrstuvwxyz0123456789-,;.!?:'\\\"/\\\\|_@#$%^&*~`+-=<>()[]{} \"):\n",
        "    \"\"\"\n",
        "    Converts a caption string to a tensor of one-hot encoded vectors based on the given alphabet.\n",
        "\n",
        "    Args:\n",
        "        caption (str): The input caption to be converted to one-hot encoded vectors.\n",
        "        max_caption_length (int): The maximum length of the output label sequence. If the caption is longer, it will be truncated.\n",
        "        alphabet (str, optional): The alphabet used to map characters to numeric labels and define the length of the one-hot vectors. Default is a combination of lowercase letters, numbers, and common punctuation marks.\n",
        "\n",
        "    Returns:\n",
        "        torch.Tensor: A tensor containing the one-hot encoded vectors for the caption.\n",
        "    \"\"\"\n",
        "    # Convert the caption to lowercase for case-insensitivity\n",
        "    caption = caption.lower()\n",
        "\n",
        "    # Create a mapping from characters in the alphabet to numeric labels\n",
        "    alpha_to_num = {k: v + 1 for k, v in zip(alphabet, range(len(alphabet)))}\n",
        "\n",
        "    # Initialize the output tensor with zeros and set the data type to long\n",
        "    labels = torch.zeros(max_caption_length).long()\n",
        "\n",
        "    # Determine the maximum number of characters to process from the caption\n",
        "    max_i = min(max_caption_length, len(caption))\n",
        "\n",
        "    # Convert each character in the caption to its corresponding numeric label\n",
        "    for i in range(max_i):\n",
        "        # If the character is not in the alphabet, use the numeric label for space (' ')\n",
        "        labels[i] = alpha_to_num.get(caption[i], alpha_to_num[' '])\n",
        "\n",
        "    labels = labels.unsqueeze(1)\n",
        "\n",
        "    # Convert the numeric labels to one-hot encoded vectors\n",
        "    # Initialize a tensor of zeros with the shape (sequence length, alphabet length + 1) and scatter ones based on the labels\n",
        "    one_hot = torch.zeros(labels.size(0), len(alphabet) + 1).scatter_(1, labels, 1.)\n",
        "\n",
        "    # Remove the column corresponding to the numeric label 0 (used for padding)\n",
        "    one_hot = one_hot[:, 1:]\n",
        "\n",
        "    # Permute the tensor to have the sequence length as the first dimension\n",
        "    one_hot = one_hot.permute(1, 0)\n",
        "\n",
        "    return one_hot\n",
        "\n",
        "def weights_init(m):\n",
        "    classname = m.__class__.__name__\n",
        "    if classname.find('Conv') != -1:\n",
        "        m.weight.data.normal_(0.0, 0.02)\n",
        "    elif classname.find('BatchNorm') != -1:\n",
        "        m.weight.data.normal_(1.0, 0.02)\n",
        "        m.bias.data.fill_(0)"
      ]
    },
    {
      "cell_type": "markdown",
      "id": "ixYPdXAOm7oC",
      "metadata": {
        "id": "ixYPdXAOm7oC"
      },
      "source": [
        "## Data Util"
      ]
    },
    {
      "cell_type": "code",
      "execution_count": null,
      "id": "RDoXrk40nBuO",
      "metadata": {
        "id": "RDoXrk40nBuO"
      },
      "outputs": [],
      "source": [
        "import os\n",
        "import io\n",
        "from torch.utils.data import Dataset, DataLoader\n",
        "import h5py\n",
        "import numpy as np\n",
        "import pdb\n",
        "from PIL import Image\n",
        "import torch\n",
        "from torch.autograd import Variable\n",
        "import pdb\n",
        "import torch.nn.functional as F\n",
        "\n",
        "class Text2ImageDataset(Dataset):\n",
        "\n",
        "    def __init__(self, datasetFile, transform=None, split=0):\n",
        "        self.datasetFile = datasetFile\n",
        "        self.transform = transform\n",
        "        self.dataset = None\n",
        "        self.dataset_keys = None\n",
        "        self.split = 'train' if split == 0 else 'valid' if split == 1 else 'test'\n",
        "        self.h5py2int = lambda x: int(np.array(x))\n",
        "\n",
        "    def __len__(self):\n",
        "        f = h5py.File(self.datasetFile, 'r')\n",
        "        self.dataset_keys = [str(k) for k in f[self.split].keys()]\n",
        "        length = len(f[self.split])\n",
        "        f.close()\n",
        "\n",
        "        return length\n",
        "\n",
        "    def __getitem__(self, idx):\n",
        "        if self.dataset is None:\n",
        "            self.dataset = h5py.File(self.datasetFile, mode='r')\n",
        "            self.dataset_keys = [str(k) for k in self.dataset[self.split].keys()]\n",
        "\n",
        "        example_name = self.dataset_keys[idx]\n",
        "        example = self.dataset[self.split][example_name]\n",
        "\n",
        "        # pdb.set_trace()\n",
        "\n",
        "        right_image = bytes(np.array(example['img']))\n",
        "        right_embed = np.array(example['embeddings'], dtype=float)\n",
        "        wrong_image = bytes(np.array(self.find_wrong_image(example['class'])))\n",
        "        inter_embed = np.array(self.find_inter_embed())\n",
        "\n",
        "        right_image = Image.open(io.BytesIO(right_image)).resize((64, 64))\n",
        "        wrong_image = Image.open(io.BytesIO(wrong_image)).resize((64, 64))\n",
        "\n",
        "        right_image = self.validate_image(right_image)\n",
        "        wrong_image = self.validate_image(wrong_image)\n",
        "\n",
        "        try:\n",
        "            txt = np.array(example['txt']).astype(str)\n",
        "        except:\n",
        "\n",
        "            txt = np.array([example['txt'][()].decode('utf-8', errors='replace')])\n",
        "            txt = np.char.replace(txt, '�', ' ').astype(str)\n",
        "\n",
        "        sample = {\n",
        "                'right_images': torch.FloatTensor(right_image),\n",
        "                'right_embed': torch.FloatTensor(right_embed),\n",
        "                'wrong_images': torch.FloatTensor(wrong_image),\n",
        "                'inter_embed': torch.FloatTensor(inter_embed),\n",
        "                'txt': str(txt)\n",
        "                 }\n",
        "\n",
        "        sample['right_images'] = sample['right_images'].sub_(127.5).div_(127.5)\n",
        "        sample['wrong_images'] =sample['wrong_images'].sub_(127.5).div_(127.5)\n",
        "\n",
        "        return sample\n",
        "\n",
        "    def find_wrong_image(self, category):\n",
        "        idx = np.random.randint(len(self.dataset_keys))\n",
        "        example_name = self.dataset_keys[idx]\n",
        "        example = self.dataset[self.split][example_name]\n",
        "        _category = example['class']\n",
        "\n",
        "        if _category != category:\n",
        "            return example['img']\n",
        "\n",
        "        return self.find_wrong_image(category)\n",
        "\n",
        "    def find_inter_embed(self):\n",
        "        idx = np.random.randint(len(self.dataset_keys))\n",
        "        example_name = self.dataset_keys[idx]\n",
        "        example = self.dataset[self.split][example_name]\n",
        "        return example['embeddings']\n",
        "\n",
        "\n",
        "    def validate_image(self, img):\n",
        "        img = np.array(img, dtype=float)\n",
        "        if len(img.shape) < 3:\n",
        "            rgb = np.empty((64, 64, 3), dtype=np.float32)\n",
        "            rgb[:, :, 0] = img\n",
        "            rgb[:, :, 1] = img\n",
        "            rgb[:, :, 2] = img\n",
        "            img = rgb\n",
        "\n",
        "        return img.transpose(2, 0, 1)"
      ]
    },
    {
      "cell_type": "markdown",
      "id": "713f0efd",
      "metadata": {
        "id": "713f0efd"
      },
      "source": [
        "## Libraries"
      ]
    },
    {
      "cell_type": "code",
      "execution_count": 5,
      "id": "7ca3b341",
      "metadata": {
        "id": "7ca3b341"
      },
      "outputs": [],
      "source": [
        "import torch\n",
        "import torch.nn as nn\n",
        "import torchvision.utils as vutils\n",
        "from torch.autograd import Variable\n",
        "from torch.utils.data import DataLoader\n",
        "\n",
        "import os\n",
        "import time\n",
        "import imageio\n",
        "from datetime import datetime\n",
        "import matplotlib.pyplot as plt\n",
        "\n",
        "import warnings\n",
        "warnings.filterwarnings(\"ignore\")"
      ]
    },
    {
      "cell_type": "markdown",
      "id": "1766cbb4",
      "metadata": {
        "id": "1766cbb4"
      },
      "source": [
        "## Setup"
      ]
    },
    {
      "cell_type": "code",
      "execution_count": 6,
      "id": "230bb030",
      "metadata": {
        "colab": {
          "base_uri": "https://localhost:8080/"
        },
        "id": "230bb030",
        "outputId": "69993514-edb8-4b6e-fb61-dac45dacbb60"
      },
      "outputs": [
        {
          "name": "stdout",
          "output_type": "stream",
          "text": [
            "Using Device cpu\n"
          ]
        }
      ],
      "source": [
        "# Setting device to cuda\n",
        "device = torch.device('cuda' if torch.cuda.is_available() else 'cpu')\n",
        "print(\"Using Device\", device)"
      ]
    },
    {
      "cell_type": "code",
      "execution_count": 7,
      "id": "578ee0e7",
      "metadata": {
        "id": "578ee0e7"
      },
      "outputs": [],
      "source": [
        "# saving current date and time\n",
        "date = datetime.now().strftime('%Y%m%d')\n",
        "start_time = time.time()"
      ]
    },
    {
      "cell_type": "code",
      "execution_count": 8,
      "id": "c2f59dbf",
      "metadata": {
        "id": "c2f59dbf"
      },
      "outputs": [],
      "source": [
        "# directory to store output images\n",
        "output_save_path = './generated_images/'\n",
        "os.makedirs(output_save_path, exist_ok=True)"
      ]
    },
    {
      "cell_type": "code",
      "execution_count": 9,
      "id": "c6d0f8e3",
      "metadata": {
        "id": "c6d0f8e3"
      },
      "outputs": [],
      "source": [
        "# directory to store trained models\n",
        "model_save_path = './saved_models/'\n",
        "os.makedirs(model_save_path, exist_ok=True)"
      ]
    },
    {
      "cell_type": "code",
      "execution_count": 10,
      "id": "4bd545cf",
      "metadata": {
        "id": "4bd545cf"
      },
      "outputs": [],
      "source": [
        "# setting up parameters\n",
        "noise_dim = 100\n",
        "embed_dim = 1024\n",
        "embed_out_dim = 128\n",
        "batch_size = 256 #128\n",
        "real_label = 1.\n",
        "fake_label = 0.\n",
        "learning_rate = 0.0002\n",
        "l1_coef = 50\n",
        "l2_coef = 100\n",
        "\n",
        "num_epochs = 250\n",
        "log_interval = 18 #43"
      ]
    },
    {
      "cell_type": "code",
      "execution_count": 10,
      "id": "grFR6fdus9gD",
      "metadata": {
        "colab": {
          "base_uri": "https://localhost:8080/"
        },
        "collapsed": true,
        "id": "grFR6fdus9gD",
        "outputId": "fed9f3be-fe19-4e52-8a9d-12e84d833172"
      },
      "outputs": [
        {
          "name": "stdout",
          "output_type": "stream",
          "text": [
            "Downloading from https://www.kaggle.com/api/v1/datasets/download/chinmay4400/birds-hd5?dataset_version_number=1...\n"
          ]
        },
        {
          "name": "stderr",
          "output_type": "stream",
          "text": [
            "100%|██████████| 5.05G/5.05G [01:02<00:00, 86.5MB/s]"
          ]
        },
        {
          "name": "stdout",
          "output_type": "stream",
          "text": [
            "Extracting files...\n"
          ]
        },
        {
          "name": "stderr",
          "output_type": "stream",
          "text": [
            "\n"
          ]
        },
        {
          "name": "stdout",
          "output_type": "stream",
          "text": [
            "Path to dataset files: /root/.cache/kagglehub/datasets/chinmay4400/birds-hd5/versions/1\n"
          ]
        }
      ],
      "source": [
        "import kagglehub\n",
        "\n",
        "# Download latest version\n",
        "path = kagglehub.dataset_download(\"chinmay4400/birds-hd5\")\n",
        "\n",
        "print(\"Path to dataset files:\", path)"
      ]
    },
    {
      "cell_type": "code",
      "execution_count": 13,
      "id": "69e5aa6d",
      "metadata": {
        "colab": {
          "base_uri": "https://localhost:8080/"
        },
        "id": "69e5aa6d",
        "outputId": "e3f8d7e8-c4ac-42f8-d5ce-3aad6cf1b3f6"
      },
      "outputs": [
        {
          "name": "stdout",
          "output_type": "stream",
          "text": [
            "No of batches:  108\n"
          ]
        }
      ],
      "source": [
        "# loading dataset\n",
        "train_dataset = Text2ImageDataset('/root/.cache/kagglehub/datasets/chinmay4400/birds-hd5/versions/1/birds.hdf5',split=0) # split { 0: train, 1: validation, 2: test }\n",
        "train_loader = DataLoader(train_dataset, batch_size=batch_size,shuffle=True,num_workers=8)\n",
        "print(\"No of batches: \",len(train_loader))"
      ]
    },
    {
      "cell_type": "code",
      "execution_count": 11,
      "id": "101cf93d",
      "metadata": {
        "id": "101cf93d"
      },
      "outputs": [],
      "source": [
        "# loss functions\n",
        "criterion = nn.BCELoss()\n",
        "l2_loss = nn.MSELoss()\n",
        "l1_loss = nn.L1Loss()"
      ]
    },
    {
      "cell_type": "code",
      "execution_count": 12,
      "id": "90147010",
      "metadata": {
        "id": "90147010"
      },
      "outputs": [],
      "source": [
        "# lists to store losses\n",
        "D_losses = []\n",
        "G_losses = []"
      ]
    },
    {
      "cell_type": "markdown",
      "id": "59d6098a",
      "metadata": {
        "id": "59d6098a"
      },
      "source": [
        "## Training"
      ]
    },
    {
      "cell_type": "code",
      "execution_count": 12,
      "id": "79020856",
      "metadata": {
        "colab": {
          "base_uri": "https://localhost:8080/"
        },
        "collapsed": true,
        "id": "79020856",
        "outputId": "6c74f3fe-ba64-43fc-ebb1-5ce09e4d60f3"
      },
      "outputs": [
        {
          "data": {
            "text/plain": [
              "Generator(\n",
              "  (text_embedding): Sequential(\n",
              "    (0): Linear(in_features=1024, out_features=128, bias=True)\n",
              "    (1): BatchNorm1d(128, eps=1e-05, momentum=0.1, affine=True, track_running_stats=True)\n",
              "    (2): LeakyReLU(negative_slope=0.2, inplace=True)\n",
              "  )\n",
              "  (model): Sequential(\n",
              "    (0): ConvTranspose2d(228, 512, kernel_size=(4, 4), stride=(1, 1), bias=False)\n",
              "    (1): BatchNorm2d(512, eps=1e-05, momentum=0.1, affine=True, track_running_stats=True)\n",
              "    (2): ReLU(inplace=True)\n",
              "    (3): ConvTranspose2d(512, 256, kernel_size=(4, 4), stride=(2, 2), padding=(1, 1), bias=False)\n",
              "    (4): BatchNorm2d(256, eps=1e-05, momentum=0.1, affine=True, track_running_stats=True)\n",
              "    (5): ReLU(inplace=True)\n",
              "    (6): ConvTranspose2d(256, 128, kernel_size=(4, 4), stride=(2, 2), padding=(1, 1), bias=False)\n",
              "    (7): BatchNorm2d(128, eps=1e-05, momentum=0.1, affine=True, track_running_stats=True)\n",
              "    (8): ReLU(inplace=True)\n",
              "    (9): ConvTranspose2d(128, 64, kernel_size=(4, 4), stride=(2, 2), padding=(1, 1), bias=False)\n",
              "    (10): BatchNorm2d(64, eps=1e-05, momentum=0.1, affine=True, track_running_stats=True)\n",
              "    (11): ReLU(inplace=True)\n",
              "    (12): ConvTranspose2d(64, 3, kernel_size=(4, 4), stride=(2, 2), padding=(1, 1), bias=False)\n",
              "    (13): Tanh()\n",
              "  )\n",
              ")"
            ]
          },
          "execution_count": 12,
          "metadata": {},
          "output_type": "execute_result"
        }
      ],
      "source": [
        "# initializing generator\n",
        "generator = Generator(channels=3, embed_dim=embed_dim, noise_dim=noise_dim, embed_out_dim=embed_out_dim).to(device)\n",
        "generator.apply(weights_init)"
      ]
    },
    {
      "cell_type": "code",
      "execution_count": 13,
      "id": "67f0a75b",
      "metadata": {
        "colab": {
          "base_uri": "https://localhost:8080/"
        },
        "collapsed": true,
        "id": "67f0a75b",
        "outputId": "2117a479-595a-49e0-f948-05997010ad80"
      },
      "outputs": [
        {
          "data": {
            "text/plain": [
              "Discriminator(\n",
              "  (model): Sequential(\n",
              "    (0): Conv2d(3, 64, kernel_size=(4, 4), stride=(2, 2), padding=(1, 1))\n",
              "    (1): LeakyReLU(negative_slope=0.2, inplace=True)\n",
              "    (2): Conv2d(64, 128, kernel_size=(4, 4), stride=(2, 2), padding=(1, 1))\n",
              "    (3): BatchNorm2d(128, eps=1e-05, momentum=0.1, affine=True, track_running_stats=True)\n",
              "    (4): LeakyReLU(negative_slope=0.2, inplace=True)\n",
              "    (5): Conv2d(128, 256, kernel_size=(4, 4), stride=(2, 2), padding=(1, 1))\n",
              "    (6): BatchNorm2d(256, eps=1e-05, momentum=0.1, affine=True, track_running_stats=True)\n",
              "    (7): LeakyReLU(negative_slope=0.2, inplace=True)\n",
              "    (8): Conv2d(256, 512, kernel_size=(4, 4), stride=(2, 2), padding=(1, 1))\n",
              "    (9): BatchNorm2d(512, eps=1e-05, momentum=0.1, affine=True, track_running_stats=True)\n",
              "    (10): LeakyReLU(negative_slope=0.2, inplace=True)\n",
              "  )\n",
              "  (text_embedding): Embedding(\n",
              "    (text_embedding): Sequential(\n",
              "      (0): Linear(in_features=1024, out_features=128, bias=True)\n",
              "      (1): BatchNorm1d(128, eps=1e-05, momentum=0.1, affine=True, track_running_stats=True)\n",
              "      (2): LeakyReLU(negative_slope=0.2, inplace=True)\n",
              "    )\n",
              "  )\n",
              "  (output): Sequential(\n",
              "    (0): Conv2d(640, 1, kernel_size=(4, 4), stride=(1, 1), bias=False)\n",
              "    (1): Sigmoid()\n",
              "  )\n",
              ")"
            ]
          },
          "execution_count": 13,
          "metadata": {},
          "output_type": "execute_result"
        }
      ],
      "source": [
        "# initializing discriminator\n",
        "discriminator = Discriminator(channels=3, embed_dim=embed_dim, embed_out_dim=embed_out_dim).to(device)\n",
        "discriminator.apply(weights_init)"
      ]
    },
    {
      "cell_type": "code",
      "execution_count": 14,
      "id": "u09_alrP6Go1",
      "metadata": {
        "colab": {
          "base_uri": "https://localhost:8080/"
        },
        "id": "u09_alrP6Go1",
        "outputId": "017a66ce-5313-4573-ce41-2500f19a47c5"
      },
      "outputs": [
        {
          "name": "stdout",
          "output_type": "stream",
          "text": [
            "Загружены веса генератора из ./saved_models/generator_epoch_50.pth\n",
            "Загружены веса дискриминатора из ./saved_models/discriminator_epoch_50.pth\n"
          ]
        },
        {
          "data": {
            "text/plain": [
              "Discriminator(\n",
              "  (model): Sequential(\n",
              "    (0): Conv2d(3, 64, kernel_size=(4, 4), stride=(2, 2), padding=(1, 1))\n",
              "    (1): LeakyReLU(negative_slope=0.2, inplace=True)\n",
              "    (2): Conv2d(64, 128, kernel_size=(4, 4), stride=(2, 2), padding=(1, 1))\n",
              "    (3): BatchNorm2d(128, eps=1e-05, momentum=0.1, affine=True, track_running_stats=True)\n",
              "    (4): LeakyReLU(negative_slope=0.2, inplace=True)\n",
              "    (5): Conv2d(128, 256, kernel_size=(4, 4), stride=(2, 2), padding=(1, 1))\n",
              "    (6): BatchNorm2d(256, eps=1e-05, momentum=0.1, affine=True, track_running_stats=True)\n",
              "    (7): LeakyReLU(negative_slope=0.2, inplace=True)\n",
              "    (8): Conv2d(256, 512, kernel_size=(4, 4), stride=(2, 2), padding=(1, 1))\n",
              "    (9): BatchNorm2d(512, eps=1e-05, momentum=0.1, affine=True, track_running_stats=True)\n",
              "    (10): LeakyReLU(negative_slope=0.2, inplace=True)\n",
              "  )\n",
              "  (text_embedding): Embedding(\n",
              "    (text_embedding): Sequential(\n",
              "      (0): Linear(in_features=1024, out_features=128, bias=True)\n",
              "      (1): BatchNorm1d(128, eps=1e-05, momentum=0.1, affine=True, track_running_stats=True)\n",
              "      (2): LeakyReLU(negative_slope=0.2, inplace=True)\n",
              "    )\n",
              "  )\n",
              "  (output): Sequential(\n",
              "    (0): Conv2d(640, 1, kernel_size=(4, 4), stride=(1, 1), bias=False)\n",
              "    (1): Sigmoid()\n",
              "  )\n",
              ")"
            ]
          },
          "execution_count": 14,
          "metadata": {},
          "output_type": "execute_result"
        }
      ],
      "source": [
        "import os\n",
        "import torch\n",
        "\n",
        "# Задайте пути к сохранённым моделям\n",
        "generator_path = os.path.join(model_save_path, f'generator_epoch_50.pth')\n",
        "discriminator_path = os.path.join(model_save_path, f'discriminator_epoch_50.pth')\n",
        "\n",
        "# Инициализация моделей\n",
        "generator = Generator(channels=3, embed_dim=embed_dim, noise_dim=noise_dim, embed_out_dim=embed_out_dim).to(device)\n",
        "discriminator = Discriminator(channels=3, embed_dim=embed_dim, embed_out_dim=embed_out_dim).to(device)\n",
        "\n",
        "# Проверка на наличие предобученных весов и загрузка\n",
        "if os.path.exists(generator_path):\n",
        "    generator.load_state_dict(torch.load(generator_path, map_location=device))\n",
        "    print(f'Загружены веса генератора из {generator_path}')\n",
        "else:\n",
        "    generator.apply(weights_init)  # Инициализация, если веса не найдены\n",
        "    print(f'Файл с весами генератора не найден: {generator_path}')\n",
        "\n",
        "if os.path.exists(discriminator_path):\n",
        "    discriminator.load_state_dict(torch.load(discriminator_path, map_location=device))\n",
        "    print(f'Загружены веса дискриминатора из {discriminator_path}')\n",
        "else:\n",
        "    discriminator.apply(weights_init)  # Инициализация, если веса не найдены\n",
        "    print(f'Файл с весами дискриминатора не найден: {discriminator_path}')\n",
        "\n",
        "# Перемещение моделей на устройство\n",
        "generator.to(device)\n",
        "discriminator.to(device)\n",
        "\n",
        "# Теперь продолжайте с циклом обучения"
      ]
    },
    {
      "cell_type": "code",
      "execution_count": 15,
      "id": "e5d80f58",
      "metadata": {
        "id": "e5d80f58"
      },
      "outputs": [],
      "source": [
        "# setting up Adam optimizer for Generator and Discriminator\n",
        "optimizer_G = torch.optim.Adam(generator.parameters(), lr=learning_rate, betas=(0.5, 0.999))\n",
        "optimizer_D = torch.optim.Adam(discriminator.parameters(), lr=learning_rate, betas=(0.5, 0.999))"
      ]
    },
    {
      "cell_type": "code",
      "execution_count": null,
      "id": "71ab13d0",
      "metadata": {
        "colab": {
          "base_uri": "https://localhost:8080/"
        },
        "collapsed": true,
        "id": "71ab13d0",
        "outputId": "db6ccc2c-405e-4b59-c7a9-2ea8b46125ac"
      },
      "outputs": [
        {
          "name": "stderr",
          "output_type": "stream",
          "text": [
            "Epoch 1/250: 100%|██████████| 108/108 [03:56<00:00,  2.19s/batch, loss_D=1.57, loss_G=27.5]\n"
          ]
        },
        {
          "name": "stdout",
          "output_type": "stream",
          "text": [
            "Epoch 1 completed in 236.27 seconds.\n"
          ]
        },
        {
          "name": "stderr",
          "output_type": "stream",
          "text": [
            "Epoch 2/250: 100%|██████████| 108/108 [03:59<00:00,  2.22s/batch, loss_D=1.53, loss_G=26.3]\n"
          ]
        },
        {
          "name": "stdout",
          "output_type": "stream",
          "text": [
            "Epoch 2 completed in 239.33 seconds.\n"
          ]
        },
        {
          "name": "stderr",
          "output_type": "stream",
          "text": [
            "Epoch 3/250: 100%|██████████| 108/108 [03:51<00:00,  2.14s/batch, loss_D=1.16, loss_G=27.5]\n"
          ]
        },
        {
          "name": "stdout",
          "output_type": "stream",
          "text": [
            "Epoch 3 completed in 231.63 seconds.\n"
          ]
        },
        {
          "name": "stderr",
          "output_type": "stream",
          "text": [
            "Epoch 4/250: 100%|██████████| 108/108 [03:49<00:00,  2.13s/batch, loss_D=2.01, loss_G=24.8]\n"
          ]
        },
        {
          "name": "stdout",
          "output_type": "stream",
          "text": [
            "Epoch 4 completed in 229.65 seconds.\n"
          ]
        },
        {
          "name": "stderr",
          "output_type": "stream",
          "text": [
            "Epoch 5/250: 100%|██████████| 108/108 [03:48<00:00,  2.12s/batch, loss_D=1.6, loss_G=26.1]\n"
          ]
        },
        {
          "name": "stdout",
          "output_type": "stream",
          "text": [
            "Epoch 5 completed in 228.50 seconds.\n"
          ]
        },
        {
          "name": "stderr",
          "output_type": "stream",
          "text": [
            "Epoch 6/250: 100%|██████████| 108/108 [03:49<00:00,  2.12s/batch, loss_D=2.02, loss_G=24]\n"
          ]
        },
        {
          "name": "stdout",
          "output_type": "stream",
          "text": [
            "Epoch 6 completed in 229.06 seconds.\n"
          ]
        },
        {
          "name": "stderr",
          "output_type": "stream",
          "text": [
            "Epoch 7/250: 100%|██████████| 108/108 [03:47<00:00,  2.11s/batch, loss_D=1.81, loss_G=26.6]\n"
          ]
        },
        {
          "name": "stdout",
          "output_type": "stream",
          "text": [
            "Epoch 7 completed in 227.79 seconds.\n"
          ]
        },
        {
          "name": "stderr",
          "output_type": "stream",
          "text": [
            "Epoch 8/250: 100%|██████████| 108/108 [03:47<00:00,  2.10s/batch, loss_D=1.54, loss_G=25.9]\n"
          ]
        },
        {
          "name": "stdout",
          "output_type": "stream",
          "text": [
            "Epoch 8 completed in 227.18 seconds.\n"
          ]
        },
        {
          "name": "stderr",
          "output_type": "stream",
          "text": [
            "Epoch 9/250: 100%|██████████| 108/108 [03:50<00:00,  2.13s/batch, loss_D=1.8, loss_G=25.6]\n"
          ]
        },
        {
          "name": "stdout",
          "output_type": "stream",
          "text": [
            "Epoch 9 completed in 230.39 seconds.\n"
          ]
        },
        {
          "name": "stderr",
          "output_type": "stream",
          "text": [
            "Epoch 10/250: 100%|██████████| 108/108 [03:48<00:00,  2.12s/batch, loss_D=1.59, loss_G=27.6]\n"
          ]
        },
        {
          "name": "stdout",
          "output_type": "stream",
          "text": [
            "Epoch 10 completed in 228.49 seconds.\n"
          ]
        },
        {
          "name": "stderr",
          "output_type": "stream",
          "text": [
            "Epoch 11/250: 100%|██████████| 108/108 [03:48<00:00,  2.12s/batch, loss_D=1.44, loss_G=27.4]\n"
          ]
        },
        {
          "name": "stdout",
          "output_type": "stream",
          "text": [
            "Epoch 11 completed in 228.49 seconds.\n"
          ]
        },
        {
          "name": "stderr",
          "output_type": "stream",
          "text": [
            "Epoch 12/250: 100%|██████████| 108/108 [03:49<00:00,  2.13s/batch, loss_D=1.91, loss_G=27.5]\n"
          ]
        },
        {
          "name": "stdout",
          "output_type": "stream",
          "text": [
            "Epoch 12 completed in 229.57 seconds.\n"
          ]
        },
        {
          "name": "stderr",
          "output_type": "stream",
          "text": [
            "Epoch 13/250: 100%|██████████| 108/108 [03:47<00:00,  2.11s/batch, loss_D=1.35, loss_G=25.8]\n"
          ]
        },
        {
          "name": "stdout",
          "output_type": "stream",
          "text": [
            "Epoch 13 completed in 227.61 seconds.\n"
          ]
        },
        {
          "name": "stderr",
          "output_type": "stream",
          "text": [
            "Epoch 14/250: 100%|██████████| 108/108 [03:47<00:00,  2.11s/batch, loss_D=2.15, loss_G=24.3]\n"
          ]
        },
        {
          "name": "stdout",
          "output_type": "stream",
          "text": [
            "Epoch 14 completed in 227.49 seconds.\n"
          ]
        },
        {
          "name": "stderr",
          "output_type": "stream",
          "text": [
            "Epoch 15/250: 100%|██████████| 108/108 [03:47<00:00,  2.10s/batch, loss_D=1.6, loss_G=25.5]\n"
          ]
        },
        {
          "name": "stdout",
          "output_type": "stream",
          "text": [
            "Epoch 15 completed in 227.16 seconds.\n"
          ]
        },
        {
          "name": "stderr",
          "output_type": "stream",
          "text": [
            "Epoch 16/250: 100%|██████████| 108/108 [03:48<00:00,  2.11s/batch, loss_D=3.17, loss_G=25]\n"
          ]
        },
        {
          "name": "stdout",
          "output_type": "stream",
          "text": [
            "Epoch 16 completed in 228.39 seconds.\n"
          ]
        },
        {
          "name": "stderr",
          "output_type": "stream",
          "text": [
            "Epoch 17/250: 100%|██████████| 108/108 [03:49<00:00,  2.12s/batch, loss_D=2.16, loss_G=26.3]\n"
          ]
        },
        {
          "name": "stdout",
          "output_type": "stream",
          "text": [
            "Epoch 17 completed in 229.24 seconds.\n"
          ]
        },
        {
          "name": "stderr",
          "output_type": "stream",
          "text": [
            "Epoch 18/250: 100%|██████████| 108/108 [03:47<00:00,  2.11s/batch, loss_D=1.82, loss_G=25.4]\n"
          ]
        },
        {
          "name": "stdout",
          "output_type": "stream",
          "text": [
            "Epoch 18 completed in 227.84 seconds.\n"
          ]
        },
        {
          "name": "stderr",
          "output_type": "stream",
          "text": [
            "Epoch 19/250: 100%|██████████| 108/108 [04:18<00:00,  2.39s/batch, loss_D=1.81, loss_G=23.5]\n"
          ]
        },
        {
          "name": "stdout",
          "output_type": "stream",
          "text": [
            "Epoch 19 completed in 258.59 seconds.\n"
          ]
        },
        {
          "name": "stderr",
          "output_type": "stream",
          "text": [
            "Epoch 20/250: 100%|██████████| 108/108 [03:47<00:00,  2.10s/batch, loss_D=1.53, loss_G=26.1]\n"
          ]
        },
        {
          "name": "stdout",
          "output_type": "stream",
          "text": [
            "Epoch 20 completed in 227.29 seconds.\n"
          ]
        },
        {
          "name": "stderr",
          "output_type": "stream",
          "text": [
            "Epoch 21/250: 100%|██████████| 108/108 [03:48<00:00,  2.11s/batch, loss_D=2.69, loss_G=24.4]\n"
          ]
        },
        {
          "name": "stdout",
          "output_type": "stream",
          "text": [
            "Epoch 21 completed in 228.15 seconds.\n"
          ]
        },
        {
          "name": "stderr",
          "output_type": "stream",
          "text": [
            "Epoch 22/250: 100%|██████████| 108/108 [03:49<00:00,  2.13s/batch, loss_D=2.59, loss_G=24.9]\n"
          ]
        },
        {
          "name": "stdout",
          "output_type": "stream",
          "text": [
            "Epoch 22 completed in 229.57 seconds.\n"
          ]
        },
        {
          "name": "stderr",
          "output_type": "stream",
          "text": [
            "Epoch 23/250: 100%|██████████| 108/108 [03:46<00:00,  2.10s/batch, loss_D=1.28, loss_G=25.9]\n"
          ]
        },
        {
          "name": "stdout",
          "output_type": "stream",
          "text": [
            "Epoch 23 completed in 226.66 seconds.\n"
          ]
        },
        {
          "name": "stderr",
          "output_type": "stream",
          "text": [
            "Epoch 24/250: 100%|██████████| 108/108 [03:49<00:00,  2.13s/batch, loss_D=1.72, loss_G=25.9]\n"
          ]
        },
        {
          "name": "stdout",
          "output_type": "stream",
          "text": [
            "Epoch 24 completed in 229.53 seconds.\n"
          ]
        },
        {
          "name": "stderr",
          "output_type": "stream",
          "text": [
            "Epoch 25/250: 100%|██████████| 108/108 [03:47<00:00,  2.11s/batch, loss_D=2.04, loss_G=25.8]\n"
          ]
        },
        {
          "name": "stdout",
          "output_type": "stream",
          "text": [
            "Epoch 25 completed in 227.92 seconds.\n"
          ]
        },
        {
          "name": "stderr",
          "output_type": "stream",
          "text": [
            "Epoch 26/250: 100%|██████████| 108/108 [03:44<00:00,  2.08s/batch, loss_D=1.74, loss_G=25.1]\n"
          ]
        },
        {
          "name": "stdout",
          "output_type": "stream",
          "text": [
            "Epoch 26 completed in 224.49 seconds.\n"
          ]
        },
        {
          "name": "stderr",
          "output_type": "stream",
          "text": [
            "Epoch 27/250: 100%|██████████| 108/108 [03:46<00:00,  2.09s/batch, loss_D=1.38, loss_G=24]\n"
          ]
        },
        {
          "name": "stdout",
          "output_type": "stream",
          "text": [
            "Epoch 27 completed in 226.05 seconds.\n"
          ]
        },
        {
          "name": "stderr",
          "output_type": "stream",
          "text": [
            "Epoch 28/250: 100%|██████████| 108/108 [03:46<00:00,  2.09s/batch, loss_D=1.5, loss_G=25.4]\n"
          ]
        },
        {
          "name": "stdout",
          "output_type": "stream",
          "text": [
            "Epoch 28 completed in 226.18 seconds.\n"
          ]
        },
        {
          "name": "stderr",
          "output_type": "stream",
          "text": [
            "Epoch 29/250: 100%|██████████| 108/108 [03:49<00:00,  2.12s/batch, loss_D=2.17, loss_G=22.7]\n"
          ]
        },
        {
          "name": "stdout",
          "output_type": "stream",
          "text": [
            "Epoch 29 completed in 229.22 seconds.\n"
          ]
        },
        {
          "name": "stderr",
          "output_type": "stream",
          "text": [
            "Epoch 30/250: 100%|██████████| 108/108 [03:47<00:00,  2.11s/batch, loss_D=1.87, loss_G=27.7]\n"
          ]
        },
        {
          "name": "stdout",
          "output_type": "stream",
          "text": [
            "Epoch 30 completed in 227.75 seconds.\n"
          ]
        },
        {
          "name": "stderr",
          "output_type": "stream",
          "text": [
            "Epoch 31/250: 100%|██████████| 108/108 [03:47<00:00,  2.10s/batch, loss_D=2.81, loss_G=25.3]\n"
          ]
        },
        {
          "name": "stdout",
          "output_type": "stream",
          "text": [
            "Epoch 31 completed in 227.12 seconds.\n"
          ]
        },
        {
          "name": "stderr",
          "output_type": "stream",
          "text": [
            "Epoch 32/250: 100%|██████████| 108/108 [03:48<00:00,  2.11s/batch, loss_D=1.27, loss_G=25.6]\n"
          ]
        },
        {
          "name": "stdout",
          "output_type": "stream",
          "text": [
            "Epoch 32 completed in 228.11 seconds.\n"
          ]
        },
        {
          "name": "stderr",
          "output_type": "stream",
          "text": [
            "Epoch 33/250: 100%|██████████| 108/108 [03:46<00:00,  2.09s/batch, loss_D=1.81, loss_G=24.9]\n"
          ]
        },
        {
          "name": "stdout",
          "output_type": "stream",
          "text": [
            "Epoch 33 completed in 226.23 seconds.\n"
          ]
        },
        {
          "name": "stderr",
          "output_type": "stream",
          "text": [
            "Epoch 34/250: 100%|██████████| 108/108 [03:46<00:00,  2.10s/batch, loss_D=1.91, loss_G=26.7]\n"
          ]
        },
        {
          "name": "stdout",
          "output_type": "stream",
          "text": [
            "Epoch 34 completed in 226.89 seconds.\n"
          ]
        },
        {
          "name": "stderr",
          "output_type": "stream",
          "text": [
            "Epoch 35/250: 100%|██████████| 108/108 [03:49<00:00,  2.12s/batch, loss_D=1.78, loss_G=25.3]\n"
          ]
        },
        {
          "name": "stdout",
          "output_type": "stream",
          "text": [
            "Epoch 35 completed in 229.51 seconds.\n"
          ]
        },
        {
          "name": "stderr",
          "output_type": "stream",
          "text": [
            "Epoch 36/250: 100%|██████████| 108/108 [03:47<00:00,  2.10s/batch, loss_D=1.83, loss_G=24.7]\n"
          ]
        },
        {
          "name": "stdout",
          "output_type": "stream",
          "text": [
            "Epoch 36 completed in 227.36 seconds.\n"
          ]
        },
        {
          "name": "stderr",
          "output_type": "stream",
          "text": [
            "Epoch 37/250: 100%|██████████| 108/108 [03:46<00:00,  2.10s/batch, loss_D=1.64, loss_G=25.6]\n"
          ]
        },
        {
          "name": "stdout",
          "output_type": "stream",
          "text": [
            "Epoch 37 completed in 226.57 seconds.\n"
          ]
        },
        {
          "name": "stderr",
          "output_type": "stream",
          "text": [
            "Epoch 38/250: 100%|██████████| 108/108 [03:46<00:00,  2.10s/batch, loss_D=1.41, loss_G=25.6]\n"
          ]
        },
        {
          "name": "stdout",
          "output_type": "stream",
          "text": [
            "Epoch 38 completed in 226.29 seconds.\n"
          ]
        },
        {
          "name": "stderr",
          "output_type": "stream",
          "text": [
            "Epoch 39/250: 100%|██████████| 108/108 [03:46<00:00,  2.10s/batch, loss_D=1.4, loss_G=26.1]\n"
          ]
        },
        {
          "name": "stdout",
          "output_type": "stream",
          "text": [
            "Epoch 39 completed in 226.89 seconds.\n"
          ]
        },
        {
          "name": "stderr",
          "output_type": "stream",
          "text": [
            "Epoch 40/250: 100%|██████████| 108/108 [03:49<00:00,  2.13s/batch, loss_D=1.82, loss_G=23.9]\n"
          ]
        },
        {
          "name": "stdout",
          "output_type": "stream",
          "text": [
            "Epoch 40 completed in 229.59 seconds.\n"
          ]
        },
        {
          "name": "stderr",
          "output_type": "stream",
          "text": [
            "Epoch 41/250: 100%|██████████| 108/108 [03:49<00:00,  2.12s/batch, loss_D=1.48, loss_G=25.3]\n"
          ]
        },
        {
          "name": "stdout",
          "output_type": "stream",
          "text": [
            "Epoch 41 completed in 229.19 seconds.\n"
          ]
        },
        {
          "name": "stderr",
          "output_type": "stream",
          "text": [
            "Epoch 42/250: 100%|██████████| 108/108 [03:46<00:00,  2.10s/batch, loss_D=2.09, loss_G=23.1]\n"
          ]
        },
        {
          "name": "stdout",
          "output_type": "stream",
          "text": [
            "Epoch 42 completed in 226.90 seconds.\n"
          ]
        },
        {
          "name": "stderr",
          "output_type": "stream",
          "text": [
            "Epoch 43/250: 100%|██████████| 108/108 [03:48<00:00,  2.11s/batch, loss_D=2.67, loss_G=22.3]\n"
          ]
        },
        {
          "name": "stdout",
          "output_type": "stream",
          "text": [
            "Epoch 43 completed in 228.38 seconds.\n"
          ]
        },
        {
          "name": "stderr",
          "output_type": "stream",
          "text": [
            "Epoch 44/250: 100%|██████████| 108/108 [03:47<00:00,  2.10s/batch, loss_D=1.79, loss_G=25.2]\n"
          ]
        },
        {
          "name": "stdout",
          "output_type": "stream",
          "text": [
            "Epoch 44 completed in 227.32 seconds.\n"
          ]
        },
        {
          "name": "stderr",
          "output_type": "stream",
          "text": [
            "Epoch 45/250: 100%|██████████| 108/108 [03:45<00:00,  2.09s/batch, loss_D=1.96, loss_G=24.1]\n"
          ]
        },
        {
          "name": "stdout",
          "output_type": "stream",
          "text": [
            "Epoch 45 completed in 225.90 seconds.\n"
          ]
        },
        {
          "name": "stderr",
          "output_type": "stream",
          "text": [
            "Epoch 46/250: 100%|██████████| 108/108 [03:46<00:00,  2.09s/batch, loss_D=1.6, loss_G=24.3]\n"
          ]
        },
        {
          "name": "stdout",
          "output_type": "stream",
          "text": [
            "Epoch 46 completed in 226.21 seconds.\n"
          ]
        },
        {
          "name": "stderr",
          "output_type": "stream",
          "text": [
            "Epoch 47/250: 100%|██████████| 108/108 [03:47<00:00,  2.10s/batch, loss_D=1.42, loss_G=24.6]\n"
          ]
        },
        {
          "name": "stdout",
          "output_type": "stream",
          "text": [
            "Epoch 47 completed in 227.27 seconds.\n"
          ]
        },
        {
          "name": "stderr",
          "output_type": "stream",
          "text": [
            "Epoch 48/250: 100%|██████████| 108/108 [03:46<00:00,  2.10s/batch, loss_D=1.29, loss_G=23.1]\n"
          ]
        },
        {
          "name": "stdout",
          "output_type": "stream",
          "text": [
            "Epoch 48 completed in 226.68 seconds.\n"
          ]
        },
        {
          "name": "stderr",
          "output_type": "stream",
          "text": [
            "Epoch 49/250: 100%|██████████| 108/108 [03:44<00:00,  2.08s/batch, loss_D=1.69, loss_G=24]\n"
          ]
        },
        {
          "name": "stdout",
          "output_type": "stream",
          "text": [
            "Epoch 49 completed in 224.87 seconds.\n"
          ]
        },
        {
          "name": "stderr",
          "output_type": "stream",
          "text": [
            "Epoch 50/250: 100%|██████████| 108/108 [03:47<00:00,  2.11s/batch, loss_D=2.34, loss_G=21.7]\n"
          ]
        },
        {
          "name": "stdout",
          "output_type": "stream",
          "text": [
            "Epoch 50 completed in 227.47 seconds.\n"
          ]
        },
        {
          "name": "stderr",
          "output_type": "stream",
          "text": [
            "Epoch 51/250: 100%|██████████| 108/108 [03:49<00:00,  2.12s/batch, loss_D=2.09, loss_G=23.8]\n"
          ]
        },
        {
          "name": "stdout",
          "output_type": "stream",
          "text": [
            "Epoch 51 completed in 229.25 seconds.\n"
          ]
        },
        {
          "name": "stderr",
          "output_type": "stream",
          "text": [
            "Epoch 52/250: 100%|██████████| 108/108 [03:45<00:00,  2.09s/batch, loss_D=1.52, loss_G=23.4]\n"
          ]
        },
        {
          "name": "stdout",
          "output_type": "stream",
          "text": [
            "Epoch 52 completed in 225.81 seconds.\n"
          ]
        },
        {
          "name": "stderr",
          "output_type": "stream",
          "text": [
            "Epoch 53/250: 100%|██████████| 108/108 [03:47<00:00,  2.11s/batch, loss_D=1.91, loss_G=21.8]\n"
          ]
        },
        {
          "name": "stdout",
          "output_type": "stream",
          "text": [
            "Epoch 53 completed in 227.50 seconds.\n"
          ]
        },
        {
          "name": "stderr",
          "output_type": "stream",
          "text": [
            "Epoch 54/250: 100%|██████████| 108/108 [03:46<00:00,  2.10s/batch, loss_D=1.7, loss_G=21.7]\n"
          ]
        },
        {
          "name": "stdout",
          "output_type": "stream",
          "text": [
            "Epoch 54 completed in 226.63 seconds.\n"
          ]
        },
        {
          "name": "stderr",
          "output_type": "stream",
          "text": [
            "Epoch 55/250: 100%|██████████| 108/108 [03:45<00:00,  2.08s/batch, loss_D=2.65, loss_G=22.8]\n"
          ]
        },
        {
          "name": "stdout",
          "output_type": "stream",
          "text": [
            "Epoch 55 completed in 225.21 seconds.\n"
          ]
        },
        {
          "name": "stderr",
          "output_type": "stream",
          "text": [
            "Epoch 56/250: 100%|██████████| 108/108 [03:47<00:00,  2.10s/batch, loss_D=1.65, loss_G=23.5]\n"
          ]
        },
        {
          "name": "stdout",
          "output_type": "stream",
          "text": [
            "Epoch 56 completed in 227.25 seconds.\n"
          ]
        },
        {
          "name": "stderr",
          "output_type": "stream",
          "text": [
            "Epoch 57/250:  22%|██▏       | 24/108 [00:57<01:25,  1.02s/batch, loss_D=1.93, loss_G=21.8]"
          ]
        }
      ],
      "source": [
        "import time\n",
        "import torch\n",
        "import torchvision.utils as vutils\n",
        "from tqdm import tqdm\n",
        "import os\n",
        "\n",
        "# training loop\n",
        "\n",
        "# iterating over number of epochs\n",
        "for epoch in range(num_epochs):\n",
        "    epoch_start_time = time.time()\n",
        "\n",
        "    with tqdm(total=len(train_loader), desc=f'Epoch {epoch + 1}/{num_epochs}', unit='batch') as pbar:\n",
        "        for batch_idx, batch in enumerate(train_loader):\n",
        "            batch_time = time.time()\n",
        "\n",
        "            images = batch['right_images'].to(device)\n",
        "            wrong_images = batch['wrong_images'].to(device)\n",
        "            embeddings = batch['right_embed'].to(device)\n",
        "            batch_size = images.size(0)\n",
        "\n",
        "            # ================================================================== #\n",
        "            #                      Train the discriminator                       #\n",
        "            # ================================================================== #\n",
        "            optimizer_D.zero_grad()\n",
        "            noise = torch.randn(batch_size, noise_dim, 1, 1, device=device)\n",
        "            fake_images = generator(noise, embeddings)\n",
        "\n",
        "            real_out, real_act = discriminator(images, embeddings)\n",
        "            d_loss_real = criterion(real_out, torch.full_like(real_out, real_label, device=device))\n",
        "\n",
        "            wrong_out, wrong_act = discriminator(wrong_images, embeddings)\n",
        "            d_loss_wrong = criterion(wrong_out, torch.full_like(wrong_out, fake_label, device=device))\n",
        "\n",
        "            fake_out, fake_act = discriminator(fake_images.detach(), embeddings)\n",
        "            d_loss_fake = criterion(fake_out, torch.full_like(fake_out, fake_label, device=device))\n",
        "\n",
        "            d_loss = d_loss_real + d_loss_wrong + d_loss_fake\n",
        "            d_loss.backward()\n",
        "            optimizer_D.step()\n",
        "\n",
        "            # ================================================================== #\n",
        "            #                        Train the generator                         #\n",
        "            # ================================================================== #\n",
        "            optimizer_G.zero_grad()\n",
        "            noise = torch.randn(batch_size, noise_dim, 1, 1, device=device)\n",
        "            fake_images = generator(noise, embeddings)\n",
        "\n",
        "            out_fake, act_fake = discriminator(fake_images, embeddings)\n",
        "            out_real, act_real = discriminator(images, embeddings)\n",
        "\n",
        "            g_bce = criterion(out_fake, torch.full_like(out_fake, real_label, device=device))\n",
        "            g_l1 = l1_coef * l1_loss(fake_images, images)\n",
        "            g_l2 = l2_coef * l2_loss(torch.mean(act_fake, 0), torch.mean(act_real, 0).detach())\n",
        "\n",
        "            g_loss = g_bce + g_l1 + g_l2\n",
        "            g_loss.backward()\n",
        "            optimizer_G.step()\n",
        "\n",
        "            D_losses.append(d_loss.item())\n",
        "            G_losses.append(g_loss.item())\n",
        "\n",
        "            pbar.set_postfix(loss_D=d_loss.item(), loss_G=g_loss.item())\n",
        "            pbar.update(1)\n",
        "\n",
        "            if batch_idx == len(train_loader) - 1 and ((epoch + 1) % 10 == 0 or epoch == 0):\n",
        "                viz_sample = torch.cat((images[:32], fake_images[:32]), 0)\n",
        "                vutils.save_image(viz_sample,\n",
        "                                   os.path.join(output_save_path, f'output_{date}_epoch_{epoch + 1}.png'),\n",
        "                                   nrow=8, normalize=True)\n",
        "\n",
        "                # Сохраняем модели каждые 10 эпох\n",
        "                torch.save(generator.state_dict(), os.path.join(model_save_path, f'generator_epoch_{epoch + 1}.pth'))\n",
        "                torch.save(discriminator.state_dict(), os.path.join(model_save_path, f'discriminator_epoch_{epoch + 1}.pth'))\n",
        "\n",
        "    epoch_duration = time.time() - epoch_start_time\n",
        "    print(f'Epoch {epoch + 1} completed in {epoch_duration:.2f} seconds.')\n",
        "\n",
        "# saving the final models\n",
        "torch.save(generator.state_dict(), os.path.join(model_save_path, f'generator_final_{date}.pth'))\n",
        "torch.save(discriminator.state_dict(), os.path.join(model_save_path, f'discriminator_final_{date}.pth'))\n",
        "\n",
        "print('Total train time: {:.2f}'.format(time.time() - start_time))"
      ]
    },
    {
      "cell_type": "code",
      "execution_count": 16,
      "id": "93378225",
      "metadata": {
        "colab": {
          "base_uri": "https://localhost:8080/",
          "height": 504
        },
        "id": "93378225",
        "outputId": "e2b648ff-ae57-47e1-872d-d902c334d07a"
      },
      "outputs": [
        {
          "data": {
            "image/png": "[encoded data removed]",
            "text/plain": [
              "<Figure size 1000x500 with 1 Axes>"
            ]
          },
          "metadata": {},
          "output_type": "display_data"
        },
        {
          "data": {
            "text/plain": [
              "<Figure size 640x480 with 0 Axes>"
            ]
          },
          "metadata": {},
          "output_type": "display_data"
        }
      ],
      "source": [
        "# generator loss plot\n",
        "plt.figure(figsize=(10,5))\n",
        "plt.title(\"Generator Loss During Training\")\n",
        "plt.plot(G_losses)\n",
        "plt.xlabel(\"iterations\")\n",
        "plt.ylabel(\"Loss\")\n",
        "plt.show()\n",
        "\n",
        "plt.savefig(os.path.join(output_save_path, 'output_generatorLoss_{}.png'.format(date)))"
      ]
    },
    {
      "cell_type": "code",
      "execution_count": 18,
      "id": "43d980c2",
      "metadata": {
        "colab": {
          "base_uri": "https://localhost:8080/",
          "height": 504
        },
        "id": "43d980c2",
        "outputId": "c073a9b9-6ecb-4ebe-d161-b18e409e39e3"
      },
      "outputs": [
        {
          "data": {
            "image/png": "[encoded data removed]",
            "text/plain": [
              "<Figure size 1000x500 with 1 Axes>"
            ]
          },
          "metadata": {},
          "output_type": "display_data"
        },
        {
          "data": {
            "text/plain": [
              "<Figure size 640x480 with 0 Axes>"
            ]
          },
          "metadata": {},
          "output_type": "display_data"
        }
      ],
      "source": [
        "# discriminator loss plot\n",
        "plt.figure(figsize=(10,5))\n",
        "plt.title(\"Discriminator Loss During Training\")\n",
        "plt.plot(D_losses)\n",
        "plt.xlabel(\"iterations\")\n",
        "plt.ylabel(\"Loss\")\n",
        "plt.show()\n",
        "\n",
        "plt.savefig(os.path.join(output_save_path, 'output_discriminatorLoss_{}.png'.format(date)))"
      ]
    },
    {
      "cell_type": "markdown",
      "id": "04c06324",
      "metadata": {
        "id": "04c06324"
      },
      "source": [
        "## Visualize output"
      ]
    },
    {
      "cell_type": "code",
      "execution_count": 17,
      "id": "7ec88bc1",
      "metadata": {
        "colab": {
          "base_uri": "https://localhost:8080/",
          "height": 321
        },
        "id": "7ec88bc1",
        "outputId": "a61f90e1-f2bf-42a0-8677-8913ddf2467e"
      },
      "outputs": [
        {
          "ename": "ValueError",
          "evalue": "need at least one array to stack",
          "output_type": "error",
          "traceback": [
            "\u001b[0;31m---------------------------------------------------------------------------\u001b[0m",
            "\u001b[0;31mValueError\u001b[0m                                Traceback (most recent call last)",
            "\u001b[0;32m<ipython-input-17-7ec79157cd42>\u001b[0m in \u001b[0;36m<cell line: 0>\u001b[0;34m()\u001b[0m\n\u001b[1;32m     12\u001b[0m     \u001b[0mimages\u001b[0m\u001b[0;34m.\u001b[0m\u001b[0mappend\u001b[0m\u001b[0;34m(\u001b[0m\u001b[0mimageio\u001b[0m\u001b[0;34m.\u001b[0m\u001b[0mimread\u001b[0m\u001b[0;34m(\u001b[0m\u001b[0mos\u001b[0m\u001b[0;34m.\u001b[0m\u001b[0mpath\u001b[0m\u001b[0;34m.\u001b[0m\u001b[0mjoin\u001b[0m\u001b[0;34m(\u001b[0m\u001b[0moutput_save_path\u001b[0m\u001b[0;34m,\u001b[0m\u001b[0mfile_name\u001b[0m\u001b[0;34m)\u001b[0m\u001b[0;34m)\u001b[0m\u001b[0;34m)\u001b[0m\u001b[0;34m\u001b[0m\u001b[0;34m\u001b[0m\u001b[0m\n\u001b[1;32m     13\u001b[0m \u001b[0;34m\u001b[0m\u001b[0m\n\u001b[0;32m---> 14\u001b[0;31m \u001b[0mimageio\u001b[0m\u001b[0;34m.\u001b[0m\u001b[0mmimsave\u001b[0m\u001b[0;34m(\u001b[0m\u001b[0mos\u001b[0m\u001b[0;34m.\u001b[0m\u001b[0mpath\u001b[0m\u001b[0;34m.\u001b[0m\u001b[0mjoin\u001b[0m\u001b[0;34m(\u001b[0m\u001b[0moutput_save_path\u001b[0m\u001b[0;34m,\u001b[0m \u001b[0;34m'output_gif_{}.gif'\u001b[0m\u001b[0;34m.\u001b[0m\u001b[0mformat\u001b[0m\u001b[0;34m(\u001b[0m\u001b[0mdate\u001b[0m\u001b[0;34m)\u001b[0m\u001b[0;34m)\u001b[0m\u001b[0;34m,\u001b[0m \u001b[0mimages\u001b[0m\u001b[0;34m,\u001b[0m \u001b[0mfps\u001b[0m\u001b[0;34m=\u001b[0m\u001b[0;36m1\u001b[0m\u001b[0;34m)\u001b[0m\u001b[0;34m\u001b[0m\u001b[0;34m\u001b[0m\u001b[0m\n\u001b[0m",
            "\u001b[0;32m/usr/local/lib/python3.11/dist-packages/imageio/v2.py\u001b[0m in \u001b[0;36mmimwrite\u001b[0;34m(uri, ims, format, **kwargs)\u001b[0m\n\u001b[1;32m    493\u001b[0m     \u001b[0mimopen_args\u001b[0m\u001b[0;34m[\u001b[0m\u001b[0;34m\"legacy_mode\"\u001b[0m\u001b[0;34m]\u001b[0m \u001b[0;34m=\u001b[0m \u001b[0;32mTrue\u001b[0m\u001b[0;34m\u001b[0m\u001b[0;34m\u001b[0m\u001b[0m\n\u001b[1;32m    494\u001b[0m     \u001b[0;32mwith\u001b[0m \u001b[0mimopen\u001b[0m\u001b[0;34m(\u001b[0m\u001b[0muri\u001b[0m\u001b[0;34m,\u001b[0m \u001b[0;34m\"wI\"\u001b[0m\u001b[0;34m,\u001b[0m \u001b[0;34m**\u001b[0m\u001b[0mimopen_args\u001b[0m\u001b[0;34m)\u001b[0m \u001b[0;32mas\u001b[0m \u001b[0mfile\u001b[0m\u001b[0;34m:\u001b[0m\u001b[0;34m\u001b[0m\u001b[0;34m\u001b[0m\u001b[0m\n\u001b[0;32m--> 495\u001b[0;31m         \u001b[0;32mreturn\u001b[0m \u001b[0mfile\u001b[0m\u001b[0;34m.\u001b[0m\u001b[0mwrite\u001b[0m\u001b[0;34m(\u001b[0m\u001b[0mims\u001b[0m\u001b[0;34m,\u001b[0m \u001b[0mis_batch\u001b[0m\u001b[0;34m=\u001b[0m\u001b[0;32mTrue\u001b[0m\u001b[0;34m,\u001b[0m \u001b[0;34m**\u001b[0m\u001b[0mkwargs\u001b[0m\u001b[0;34m)\u001b[0m\u001b[0;34m\u001b[0m\u001b[0;34m\u001b[0m\u001b[0m\n\u001b[0m\u001b[1;32m    496\u001b[0m \u001b[0;34m\u001b[0m\u001b[0m\n\u001b[1;32m    497\u001b[0m \u001b[0;34m\u001b[0m\u001b[0m\n",
            "\u001b[0;32m/usr/local/lib/python3.11/dist-packages/imageio/plugins/pillow.py\u001b[0m in \u001b[0;36mwrite\u001b[0;34m(self, ndimage, mode, format, is_batch, **kwargs)\u001b[0m\n\u001b[1;32m    415\u001b[0m \u001b[0;34m\u001b[0m\u001b[0m\n\u001b[1;32m    416\u001b[0m         \u001b[0;32mif\u001b[0m \u001b[0misinstance\u001b[0m\u001b[0;34m(\u001b[0m\u001b[0mndimage\u001b[0m\u001b[0;34m,\u001b[0m \u001b[0mlist\u001b[0m\u001b[0;34m)\u001b[0m\u001b[0;34m:\u001b[0m\u001b[0;34m\u001b[0m\u001b[0;34m\u001b[0m\u001b[0m\n\u001b[0;32m--> 417\u001b[0;31m             \u001b[0mndimage\u001b[0m \u001b[0;34m=\u001b[0m \u001b[0mnp\u001b[0m\u001b[0;34m.\u001b[0m\u001b[0mstack\u001b[0m\u001b[0;34m(\u001b[0m\u001b[0mndimage\u001b[0m\u001b[0;34m,\u001b[0m \u001b[0maxis\u001b[0m\u001b[0;34m=\u001b[0m\u001b[0;36m0\u001b[0m\u001b[0;34m)\u001b[0m\u001b[0;34m\u001b[0m\u001b[0;34m\u001b[0m\u001b[0m\n\u001b[0m\u001b[1;32m    418\u001b[0m             \u001b[0mis_batch\u001b[0m \u001b[0;34m=\u001b[0m \u001b[0;32mTrue\u001b[0m\u001b[0;34m\u001b[0m\u001b[0;34m\u001b[0m\u001b[0m\n\u001b[1;32m    419\u001b[0m         \u001b[0;32melse\u001b[0m\u001b[0;34m:\u001b[0m\u001b[0;34m\u001b[0m\u001b[0;34m\u001b[0m\u001b[0m\n",
            "\u001b[0;32m/usr/local/lib/python3.11/dist-packages/numpy/core/shape_base.py\u001b[0m in \u001b[0;36mstack\u001b[0;34m(arrays, axis, out, dtype, casting)\u001b[0m\n\u001b[1;32m    443\u001b[0m     \u001b[0marrays\u001b[0m \u001b[0;34m=\u001b[0m \u001b[0;34m[\u001b[0m\u001b[0masanyarray\u001b[0m\u001b[0;34m(\u001b[0m\u001b[0marr\u001b[0m\u001b[0;34m)\u001b[0m \u001b[0;32mfor\u001b[0m \u001b[0marr\u001b[0m \u001b[0;32min\u001b[0m \u001b[0marrays\u001b[0m\u001b[0;34m]\u001b[0m\u001b[0;34m\u001b[0m\u001b[0;34m\u001b[0m\u001b[0m\n\u001b[1;32m    444\u001b[0m     \u001b[0;32mif\u001b[0m \u001b[0;32mnot\u001b[0m \u001b[0marrays\u001b[0m\u001b[0;34m:\u001b[0m\u001b[0;34m\u001b[0m\u001b[0;34m\u001b[0m\u001b[0m\n\u001b[0;32m--> 445\u001b[0;31m         \u001b[0;32mraise\u001b[0m \u001b[0mValueError\u001b[0m\u001b[0;34m(\u001b[0m\u001b[0;34m'need at least one array to stack'\u001b[0m\u001b[0;34m)\u001b[0m\u001b[0;34m\u001b[0m\u001b[0;34m\u001b[0m\u001b[0m\n\u001b[0m\u001b[1;32m    446\u001b[0m \u001b[0;34m\u001b[0m\u001b[0m\n\u001b[1;32m    447\u001b[0m     \u001b[0mshapes\u001b[0m \u001b[0;34m=\u001b[0m \u001b[0;34m{\u001b[0m\u001b[0marr\u001b[0m\u001b[0;34m.\u001b[0m\u001b[0mshape\u001b[0m \u001b[0;32mfor\u001b[0m \u001b[0marr\u001b[0m \u001b[0;32min\u001b[0m \u001b[0marrays\u001b[0m\u001b[0;34m}\u001b[0m\u001b[0;34m\u001b[0m\u001b[0;34m\u001b[0m\u001b[0m\n",
            "\u001b[0;31mValueError\u001b[0m: need at least one array to stack"
          ]
        }
      ],
      "source": [
        "# Get all file names from the \"generated_images\" directory\n",
        "file_names = os.listdir(output_save_path)\n",
        "file_names = [name for name in file_names if name.startswith('output_{}_'.format(date))]\n",
        "\n",
        "# Sort the file names numerically\n",
        "file_names = sorted(file_names, key=lambda name: int(name.split('_')[3].split('.')[0]))\n",
        "\n",
        "# Create a list to store the read images\n",
        "images = []\n",
        "\n",
        "for file_name in file_names:\n",
        "    images.append(imageio.imread(os.path.join(output_save_path,file_name)))\n",
        "\n",
        "imageio.mimsave(os.path.join(output_save_path, 'output_gif_{}.gif'.format(date)), images, fps=1)"
      ]
    },
    {
      "cell_type": "code",
      "execution_count": 18,
      "id": "a00e3ec8",
      "metadata": {
        "colab": {
          "base_uri": "https://localhost:8080/",
          "height": 193
        },
        "id": "a00e3ec8",
        "outputId": "db07d2ec-f991-48bf-bf4c-21fb3760d1bd"
      },
      "outputs": [
        {
          "ename": "FileNotFoundError",
          "evalue": "[Errno 2] No such file or directory: './generated_images/output_gif_20250315.gif'",
          "output_type": "error",
          "traceback": [
            "\u001b[0;31m---------------------------------------------------------------------------\u001b[0m",
            "\u001b[0;31mFileNotFoundError\u001b[0m                         Traceback (most recent call last)",
            "\u001b[0;32m<ipython-input-18-8a37f10e3d17>\u001b[0m in \u001b[0;36m<cell line: 0>\u001b[0;34m()\u001b[0m\n\u001b[1;32m      2\u001b[0m \u001b[0;34m\u001b[0m\u001b[0m\n\u001b[1;32m      3\u001b[0m \u001b[0;31m# Load the GIF\u001b[0m\u001b[0;34m\u001b[0m\u001b[0;34m\u001b[0m\u001b[0m\n\u001b[0;32m----> 4\u001b[0;31m \u001b[0;32mwith\u001b[0m \u001b[0mopen\u001b[0m\u001b[0;34m(\u001b[0m\u001b[0mos\u001b[0m\u001b[0;34m.\u001b[0m\u001b[0mpath\u001b[0m\u001b[0;34m.\u001b[0m\u001b[0mjoin\u001b[0m\u001b[0;34m(\u001b[0m\u001b[0moutput_save_path\u001b[0m\u001b[0;34m,\u001b[0m \u001b[0;34m'output_gif_{}.gif'\u001b[0m\u001b[0;34m.\u001b[0m\u001b[0mformat\u001b[0m\u001b[0;34m(\u001b[0m\u001b[0mdate\u001b[0m\u001b[0;34m)\u001b[0m\u001b[0;34m)\u001b[0m\u001b[0;34m,\u001b[0m\u001b[0;34m'rb'\u001b[0m\u001b[0;34m)\u001b[0m \u001b[0;32mas\u001b[0m \u001b[0mfile\u001b[0m\u001b[0;34m:\u001b[0m\u001b[0;34m\u001b[0m\u001b[0;34m\u001b[0m\u001b[0m\n\u001b[0m\u001b[1;32m      5\u001b[0m     \u001b[0mdisplay\u001b[0m\u001b[0;34m(\u001b[0m\u001b[0mImage\u001b[0m\u001b[0;34m(\u001b[0m\u001b[0mfile\u001b[0m\u001b[0;34m.\u001b[0m\u001b[0mread\u001b[0m\u001b[0;34m(\u001b[0m\u001b[0;34m)\u001b[0m\u001b[0;34m)\u001b[0m\u001b[0;34m)\u001b[0m\u001b[0;34m\u001b[0m\u001b[0;34m\u001b[0m\u001b[0m\n",
            "\u001b[0;31mFileNotFoundError\u001b[0m: [Errno 2] No such file or directory: './generated_images/output_gif_20250315.gif'"
          ]
        }
      ],
      "source": [
        "from IPython.display import Image\n",
        "\n",
        "# Load the GIF\n",
        "with open(os.path.join(output_save_path, 'output_gif_{}.gif'.format(date)),'rb') as file:\n",
        "    display(Image(file.read()))"
      ]
    },
    {
      "cell_type": "code",
      "execution_count": 39,
      "id": "asPn6UZl62V3",
      "metadata": {
        "colab": {
          "base_uri": "https://localhost:8080/"
        },
        "collapsed": true,
        "id": "asPn6UZl62V3",
        "outputId": "19be596c-9f87-4b52-c8ba-9fe7f0b1f013"
      },
      "outputs": [
        {
          "name": "stdout",
          "output_type": "stream",
          "text": [
            "torch.Size([1, 1024])\n",
            "tensor([[-0.0509, -0.1825, -0.0498,  ..., -0.1835, -0.1892,  0.0707]],\n",
            "       grad_fn=<AddmmBackward0>)\n"
          ]
        }
      ],
      "source": [
        "from transformers import BertTokenizer, BertModel\n",
        "import torch\n",
        "\n",
        "# Загрузка предобученного BERT\n",
        "tokenizer = BertTokenizer.from_pretrained('bert-base-uncased')\n",
        "model = BertModel.from_pretrained('bert-base-uncased')\n",
        "\n",
        "# Пример текста\n",
        "caption = \"a bird\"\n",
        "\n",
        "# Токенизация текста\n",
        "inputs = tokenizer(caption, return_tensors=\"pt\")\n",
        "\n",
        "# Генерация эмбеддингов текста с помощью BERT\n",
        "outputs = model(**inputs)\n",
        "\n",
        "# Используем среднее значение по всем токенам как эмбеддинг текста\n",
        "text_embedding_tensor = outputs.last_hidden_state.mean(dim=1)\n",
        "\n",
        "# Преобразование для добавления размера батча\n",
        "# text_embedding_tensor = text_embedding_tensor.view(1, -1)\n",
        "# print(text_embedding_tensor.shape)\n",
        "\n",
        "# Проекция с 768 до 1024\n",
        "projection_layer = nn.Linear(768, 1024)\n",
        "\n",
        "# Применяем проекцию к текстовому эмбеддингу\n",
        "text_embedding_tensor_1024 = projection_layer(text_embedding_tensor)\n",
        "\n",
        "print(text_embedding_tensor_1024.shape)  # Должен быть [1, 1024]\n",
        "print(text_embedding_tensor_1024)\n"
      ]
    },
    {
      "cell_type": "code",
      "execution_count": 40,
      "id": "xYSOJ3up3Yi6",
      "metadata": {
        "colab": {
          "base_uri": "https://localhost:8080/",
          "height": 432
        },
        "id": "xYSOJ3up3Yi6",
        "outputId": "cb8b45fc-8a22-425d-aee5-fb5602565034"
      },
      "outputs": [
        {
          "data": {
            "image/png": "[encoded data removed]",
            "text/plain": [
              "<Figure size 640x480 with 1 Axes>"
            ]
          },
          "metadata": {},
          "output_type": "display_data"
        }
      ],
      "source": [
        "import torch\n",
        "\n",
        "# Генерация случайного шума для модели\n",
        "noise = torch.randn(1, 100, 1, 1)\n",
        "generator.eval()\n",
        "\n",
        "# Генерация изображения с использованием текстового эмбеддинга\n",
        "with torch.no_grad():\n",
        "    generated_image = generator(noise, text_embedding_tensor_1024)\n",
        "\n",
        "# Преобразование изображения для отображения\n",
        "generated_image = generated_image.squeeze(0).permute(1, 2, 0).cpu().numpy()\n",
        "\n",
        "# Преобразование диапазона значений от [-1, 1] до [0, 1]\n",
        "generated_image = (generated_image + 1) / 2\n",
        "\n",
        "# Отображение изображения\n",
        "import matplotlib.pyplot as plt\n",
        "plt.imshow(generated_image)\n",
        "plt.show()"
      ]
    }
  ],
  "metadata": {
    "accelerator": "GPU",
    "colab": {
      "gpuType": "T4",
      "provenance": []
    },
    "kernelspec": {
      "display_name": "Python 3",
      "name": "python3"
    },
    "language_info": {
      "name": "python"
    }
  },
  "nbformat": 4,
  "nbformat_minor": 5
}
